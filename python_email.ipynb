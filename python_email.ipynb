{
  "nbformat": 4,
  "nbformat_minor": 0,
  "metadata": {
    "colab": {
      "name": "python_email.ipynb",
      "provenance": [],
      "collapsed_sections": [],
      "authorship_tag": "ABX9TyOqxmCwtn4YXrksxb3oJSVg"
    },
    "kernelspec": {
      "name": "python3",
      "display_name": "Python 3"
    },
    "language_info": {
      "name": "python"
    }
  },
  "cells": [
    {
      "cell_type": "markdown",
      "source": [
        "**SMTP** = Simple Mail Transfer Protocol\n",
        "\n",
        "Pacote usado para criar o servidor e enviar o email.\n",
        "\n",
        "**MIME** = Padrão de envio de mensagens pela internet\n",
        "\n",
        "Enviamos emails no formato MIME usando o protocolo SMTP"
      ],
      "metadata": {
        "id": "svOEjdafIxSG"
      }
    },
    {
      "cell_type": "code",
      "execution_count": 1,
      "metadata": {
        "id": "TbzdyEg6ILl4"
      },
      "outputs": [],
      "source": [
        "# Importando dependências necessárias\n",
        "import smtplib\n",
        "from email.mime.multipart import MIMEMultipart\n",
        "from email.mime.text import MIMEText"
      ]
    },
    {
      "cell_type": "markdown",
      "source": [
        "# 1 - Conectando"
      ],
      "metadata": {
        "id": "jsZTmphwDWNQ"
      }
    },
    {
      "cell_type": "code",
      "source": [
        "# Startando o servidor SMTP\n",
        "host = 'smtp-mail.outlook.com'\n",
        "port = '587'\n",
        "server = smtplib.SMTP(host, port)\n",
        "server.ehlo()\n",
        "server.starttls()\n",
        "\n",
        "# Fazendo login\n",
        "login = ''\n",
        "senha = ''\n",
        "server.login(login, senha)"
      ],
      "metadata": {
        "colab": {
          "base_uri": "https://localhost:8080/"
        },
        "id": "kZ4iUFXAIspE",
        "outputId": "6ef134b1-1b52-44e2-a665-871419d788ec"
      },
      "execution_count": 13,
      "outputs": [
        {
          "output_type": "execute_result",
          "data": {
            "text/plain": [
              "(235, b'2.7.0 Authentication successful')"
            ]
          },
          "metadata": {},
          "execution_count": 13
        }
      ]
    },
    {
      "cell_type": "markdown",
      "source": [
        "# 2 - Construindo corpo"
      ],
      "metadata": {
        "id": "XNX3CLNHDZaX"
      }
    },
    {
      "cell_type": "code",
      "source": [
        "# Construir o email tipo MIME\n",
        "email_msg = MIMEMultipart()\n",
        "\n",
        "# Definindo valores do objeto email\n",
        "email_msg['From'] = login\n",
        "email_msg['To'] = \"zruhviaj@sharklasers.com\"\n",
        "email_msg['Subject'] = \"Email enviado pelo python\"\n",
        "\n",
        "# Corpo do email \n",
        "corpo = \"Olá, tudo bem?\"\n",
        "email_msg.attach(MIMEText(corpo, \"plain\"))"
      ],
      "metadata": {
        "id": "q9y3qsqsJwDR"
      },
      "execution_count": 14,
      "outputs": []
    },
    {
      "cell_type": "markdown",
      "source": [
        "# 3 - Enviando e fechando o servidor"
      ],
      "metadata": {
        "id": "-w9TOIlPDcsI"
      }
    },
    {
      "cell_type": "code",
      "source": [
        "# Enviar o email do tipo MIME com servidor SMTP\n",
        "server.sendmail(email_msg['From'], email_msg['To'], email_msg.as_string())"
      ],
      "metadata": {
        "id": "0uH66II7J1Z4",
        "colab": {
          "base_uri": "https://localhost:8080/"
        },
        "outputId": "7d5f8723-0bd9-48f3-cdd1-0ec76b96adae"
      },
      "execution_count": 5,
      "outputs": [
        {
          "output_type": "execute_result",
          "data": {
            "text/plain": [
              "{}"
            ]
          },
          "metadata": {},
          "execution_count": 5
        }
      ]
    },
    {
      "cell_type": "code",
      "source": [
        "# Fechando o servidor\n",
        "server.quit()"
      ],
      "metadata": {
        "colab": {
          "base_uri": "https://localhost:8080/"
        },
        "id": "iJbIoZtkCkvY",
        "outputId": "50672e2f-9f28-4d3d-b1e5-0ba77394b9cc"
      },
      "execution_count": 6,
      "outputs": [
        {
          "output_type": "execute_result",
          "data": {
            "text/plain": [
              "(221, b'2.0.0 Service closing transmission channel')"
            ]
          },
          "metadata": {},
          "execution_count": 6
        }
      ]
    },
    {
      "cell_type": "markdown",
      "source": [
        "# 4 - Outros tipos de mensagem"
      ],
      "metadata": {
        "id": "jnpfRlbLDi3v"
      }
    },
    {
      "cell_type": "code",
      "source": [
        "# Enviando mensagem no formato HTML\n",
        "email_msg = MIMEMultipart()\n",
        "email_msg['From'] = login\n",
        "email_msg['To'] = \"xsjpincd@sharklasers.com\"\n",
        "email_msg['Subject'] = \"Email enviado pelo python\"\n",
        "corpo = \"<b>Olá, tudo bem?</b>\"\n",
        "email_msg.attach(MIMEText(corpo, \"html\"))\n",
        "server.sendmail(email_msg['From'], email_msg['To'], email_msg.as_string())\n",
        "server.quit()"
      ],
      "metadata": {
        "colab": {
          "base_uri": "https://localhost:8080/"
        },
        "id": "rOevb0woDJKy",
        "outputId": "0bb75ae2-03db-4b00-82c9-d2053fe15555"
      },
      "execution_count": null,
      "outputs": [
        {
          "output_type": "execute_result",
          "data": {
            "text/plain": [
              "(221, b'2.0.0 Service closing transmission channel')"
            ]
          },
          "metadata": {},
          "execution_count": 13
        }
      ]
    },
    {
      "cell_type": "code",
      "source": [
        "# Dependências para anexar um arquivo ao email\n",
        "from email.mime.base import MIMEBase\n",
        "from email import encoders"
      ],
      "metadata": {
        "id": "QUtNhioDEEG3"
      },
      "execution_count": 7,
      "outputs": []
    },
    {
      "cell_type": "code",
      "source": [
        "# Criando arquivo .txt anexo\n",
        "arquivo = open(\"anexo.txt\", \"a\")\n",
        "arquivo.write(\"Log necessário\")"
      ],
      "metadata": {
        "colab": {
          "base_uri": "https://localhost:8080/"
        },
        "id": "NI2SH8ZRESpG",
        "outputId": "1e971900-6c86-4f19-d11f-797ef9fb2164"
      },
      "execution_count": 8,
      "outputs": [
        {
          "output_type": "execute_result",
          "data": {
            "text/plain": [
              "14"
            ]
          },
          "metadata": {},
          "execution_count": 8
        }
      ]
    },
    {
      "cell_type": "code",
      "source": [
        "# Encondando o arquivo\n",
        "arquivo_b = open(\"anexo.txt\", \"rb\")"
      ],
      "metadata": {
        "id": "6zOdLnjqFVUG"
      },
      "execution_count": 9,
      "outputs": []
    },
    {
      "cell_type": "code",
      "source": [
        "# Configurando arquivo como parte do anexo e o codificando\n",
        "att = MIMEBase(\"application\", \"octet-stream\")\n",
        "att.set_payload(arquivo_b.read())\n",
        "encoders.encode_base64(att)\n",
        "att.add_header('Content-Disposition', f'attachment; filename = anexo.txt')"
      ],
      "metadata": {
        "id": "ql_Gb8RLGNbx"
      },
      "execution_count": 11,
      "outputs": []
    },
    {
      "cell_type": "code",
      "source": [
        "# Adicionando anexo e enviando email\n",
        "email_msg.attach(att)\n",
        "server.sendmail(email_msg['From'], email_msg['To'], email_msg.as_string())\n",
        "server.quit()"
      ],
      "metadata": {
        "colab": {
          "base_uri": "https://localhost:8080/"
        },
        "id": "5K1hfIiYEiAx",
        "outputId": "433bec54-fbc4-455b-84b5-f7c9c6bfdf55"
      },
      "execution_count": 15,
      "outputs": [
        {
          "output_type": "execute_result",
          "data": {
            "text/plain": [
              "(221, b'2.0.0 Service closing transmission channel')"
            ]
          },
          "metadata": {},
          "execution_count": 15
        }
      ]
    }
  ]
}